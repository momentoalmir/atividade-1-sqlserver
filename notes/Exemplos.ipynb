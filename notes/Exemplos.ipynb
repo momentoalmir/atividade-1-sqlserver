{
    "metadata": {
        "kernelspec": {
            "name": "SQL",
            "display_name": "SQL",
            "language": "sql"
        },
        "language_info": {
            "name": "sql",
            "version": ""
        }
    },
    "nbformat_minor": 2,
    "nbformat": 4,
    "cells": [
        {
            "cell_type": "markdown",
            "source": [
                "Inserir Cliente"
            ],
            "metadata": {
                "azdata_cell_guid": "63e751e5-1fd0-4542-aee8-bb6caea288c3"
            },
            "attachments": {}
        },
        {
            "cell_type": "code",
            "source": [
                "USE seguradora;\r\n",
                "INSERT INTO Cliente (CodCliente, Nome, CPF, Sexo, Estado, Cidade, Bairro, Numero, Rua, TelefoneFixo, TelefoneCelular)\r\n",
                "VALUES (1, 'Maria Silva', '111.111.111-11', 'Feminino', 'São Paulo', 'Itapira', 'Centro', '100', 'Rua A', '1111-1111', '99999-9999');"
            ],
            "metadata": {
                "azdata_cell_guid": "5d44da9d-031e-4e98-8182-1513ce59b46f"
            },
            "outputs": [
                {
                    "output_type": "display_data",
                    "data": {
                        "text/html": "(1 row affected)"
                    },
                    "metadata": {}
                },
                {
                    "output_type": "display_data",
                    "data": {
                        "text/html": "Total execution time: 00:00:00.023"
                    },
                    "metadata": {}
                }
            ],
            "execution_count": 6
        },
        {
            "cell_type": "markdown",
            "source": [
                "Inserir carro"
            ],
            "metadata": {
                "azdata_cell_guid": "6c41503d-bbe4-406a-8f80-50c5655a6f7b"
            },
            "attachments": {}
        },
        {
            "cell_type": "markdown",
            "source": [
                "<span style=\"color: #569cd6;\">INSERT INTO</span> Carro (CodCarro, Placa, Marca, Modelo, Ano, Chassi, Cor)\n",
                "\n",
                "<span style=\"color: #569cd6;\">VALUES</span> (<span style=\"color: #b5cea8;\">1</span>, <span style=\"color: #ce9178;\">'ABC-1234'</span>, <span style=\"color: #ce9178;\">'Ford'</span>, <span style=\"color: #ce9178;\">'Fiesta'</span>, <span style=\"color: #ce9178;\">'2018'</span>, <span style=\"color: #ce9178;\">'ABC1234DEF5678'</span>, <span style=\"color: #ce9178;\">'Prata'</span>);"
            ],
            "metadata": {
                "azdata_cell_guid": "7931234f-a923-44c9-bcaf-fdbe6c3527ab"
            },
            "attachments": {}
        },
        {
            "cell_type": "markdown",
            "source": [
                "Inserir apólice"
            ],
            "metadata": {
                "azdata_cell_guid": "dbbd9d49-0cac-45cf-98d0-d43388b033c7"
            },
            "attachments": {}
        },
        {
            "cell_type": "code",
            "source": [
                "INSERT INTO Apolice (CodApolice, ValorCobertura, ValorFranquia, DataInicioVigencia, DataFimVigencia, Cliente_CodCliente, Carro_CodCarro)\r\n",
                "VALUES (1, 50000.00, 1000.00, '2022-01-01', '2023-01-01', 1, 1);"
            ],
            "metadata": {
                "azdata_cell_guid": "af49bcd4-54aa-4072-9369-ff7b5cf3b4e3"
            },
            "outputs": [
                {
                    "output_type": "error",
                    "evalue": "Msg 208, Level 16, State 1, Line 1\r\nNome de objeto 'Apolice' inválido.",
                    "ename": "",
                    "traceback": []
                },
                {
                    "output_type": "display_data",
                    "data": {
                        "text/html": "Total execution time: 00:00:00.002"
                    },
                    "metadata": {}
                }
            ],
            "execution_count": 2
        },
        {
            "cell_type": "markdown",
            "source": [
                "Inserir sinistro"
            ],
            "metadata": {
                "azdata_cell_guid": "845137af-c81c-4cec-ade2-ad501b7e17d7"
            },
            "attachments": {}
        },
        {
            "cell_type": "code",
            "source": [
                "INSERT INTO Sinistro (CodSinistro, HoraSinistro, DataSinistro, LocalSinistro, Condutor, Carro_CodCarro)\r\n",
                "VALUES (1, 1430, '2022-06-01', 'Rua B', 'João', 1);"
            ],
            "metadata": {
                "azdata_cell_guid": "605f8a55-d95f-481b-8b95-c149cee69013"
            },
            "outputs": [
                {
                    "output_type": "error",
                    "evalue": "Msg 547, Level 16, State 0, Line 1\r\nA instrução INSERT conflitou com a restrição do FOREIGN KEY \"FK__Sinistro__Carro___30242045\". O conflito ocorreu no banco de dados \"master\", tabela \"dbo.Carro\", column 'CodCarro'.",
                    "ename": "",
                    "traceback": []
                },
                {
                    "output_type": "display_data",
                    "data": {
                        "text/html": "A instrução foi finalizada."
                    },
                    "metadata": {}
                },
                {
                    "output_type": "display_data",
                    "data": {
                        "text/html": "Total execution time: 00:00:00.002"
                    },
                    "metadata": {}
                }
            ],
            "execution_count": 4
        },
        {
            "cell_type": "markdown",
            "source": [
                "Selecionar todos os clientes e suas apólices"
            ],
            "metadata": {
                "azdata_cell_guid": "74c48b96-7a56-49d5-ab81-6eeb99d1f1e0"
            },
            "attachments": {}
        },
        {
            "cell_type": "code",
            "source": [
                "SELECT *\r\n",
                "FROM Cliente\r\n",
                "LEFT JOIN Apolice ON Cliente.CodCliente = Apolice.Cliente_CodCliente;"
            ],
            "metadata": {
                "azdata_cell_guid": "f9623748-9f12-43c3-9e7a-de58838c1d69"
            },
            "outputs": [],
            "execution_count": null
        },
        {
            "cell_type": "markdown",
            "source": [
                "Selecionar todos os carros e seus sinistros"
            ],
            "metadata": {
                "azdata_cell_guid": "d7c3a324-db3b-4f82-a43d-713d03ceac01"
            },
            "attachments": {}
        },
        {
            "cell_type": "code",
            "source": [
                "SELECT *\r\n",
                "FROM Carro\r\n",
                "LEFT JOIN Sinistro ON Carro.CodCarro = Sinistro.Carro_CodCarro;"
            ],
            "metadata": {
                "azdata_cell_guid": "4cc93bca-1d2e-4894-8867-6bba3b32bd7c"
            },
            "outputs": [],
            "execution_count": null
        }
    ]
}
