{
    "metadata": {
        "kernelspec": {
            "name": "SQL",
            "display_name": "SQL",
            "language": "sql"
        },
        "language_info": {
            "name": "sql",
            "version": ""
        }
    },
    "nbformat_minor": 2,
    "nbformat": 4,
    "cells": [
        {
            "cell_type": "markdown",
            "source": [
                "# Atividade 1: SQL Server\n",
                "\n",
                "O código apresentado é um conjunto de comandos DDL (Data Definition Language) em SQL Server para a criação de quatro tabelas em um banco de dados. As tabelas são: Cliente, Apolice, Carro e Sinistro. Atividade realizada para FATEC Itapira, matéria de Banco de Dados, professor: Mateus Guilherme Fuini."
            ],
            "metadata": {
                "azdata_cell_guid": "76d7b524-7d91-46d1-82fb-b024c1cbd8c7"
            },
            "attachments": {}
        },
        {
            "cell_type": "markdown",
            "source": [
                "# Deletando base de dados anterior caso exista"
            ],
            "metadata": {
                "azdata_cell_guid": "d58d8bbc-f4d7-4104-be5d-f6a1ab67447f"
            },
            "attachments": {}
        },
        {
            "cell_type": "code",
            "source": [
                "use master;\r\n",
                "DROP DATABASE seguradora;"
            ],
            "metadata": {
                "azdata_cell_guid": "b5fe3897-d952-4541-84eb-7b925ea7e695",
                "language": "sql"
            },
            "outputs": [
                {
                    "output_type": "display_data",
                    "data": {
                        "text/html": "Commands completed successfully."
                    },
                    "metadata": {}
                },
                {
                    "output_type": "display_data",
                    "data": {
                        "text/html": "Total execution time: 00:00:00.044"
                    },
                    "metadata": {}
                }
            ],
            "execution_count": 11
        },
        {
            "cell_type": "markdown",
            "source": [
                "## Criando Base de Dados"
            ],
            "metadata": {
                "azdata_cell_guid": "b2439bba-ae34-4686-b2b6-fd446d540aaa"
            }
        },
        {
            "cell_type": "code",
            "source": [
                "CREATE DATABASE seguradora;\n"
            ],
            "metadata": {
                "azdata_cell_guid": "82b07b17-e183-4c69-b78d-f6fafb5ef128",
                "tags": [
                    "hide_input"
                ],
                "vscode": {
                    "languageId": "sql"
                },
                "language": "sql"
            },
            "outputs": [
                {
                    "output_type": "display_data",
                    "data": {
                        "text/html": "Commands completed successfully."
                    },
                    "metadata": {}
                },
                {
                    "output_type": "display_data",
                    "data": {
                        "text/html": "Total execution time: 00:00:00.250"
                    },
                    "metadata": {}
                }
            ],
            "execution_count": 12
        },
        {
            "cell_type": "code",
            "source": [
                "USE seguradora;"
            ],
            "metadata": {
                "azdata_cell_guid": "f4fa909b-c86b-46c2-b259-bb9d582ddad8",
                "vscode": {
                    "languageId": "sql"
                },
                "language": "sql"
            },
            "outputs": [
                {
                    "output_type": "display_data",
                    "data": {
                        "text/html": "Commands completed successfully."
                    },
                    "metadata": {}
                },
                {
                    "output_type": "display_data",
                    "data": {
                        "text/html": "Total execution time: 00:00:00.001"
                    },
                    "metadata": {}
                }
            ],
            "execution_count": 13
        },
        {
            "cell_type": "markdown",
            "source": [
                "## Cliente\n",
                "\n",
                "A tabela Cliente contém informações sobre os clientes da seguradora. Ela possui uma chave primária CodCliente, que identifica de forma única cada cliente. Além disso, a tabela possui outras colunas, como Nome, CPF, Sexo, Estado, Cidade, Bairro, Numero, Rua, TelefoneFixo e TelefoneCelular, que armazenam informações pessoais e de contato dos clientes. Algumas colunas possuem restrições, como a coluna Nome que não pode ser nula (NOT NULL), e as colunas CPF e TelefoneCelular que devem ser únicas (UNIQUE). A coluna Cidade possui um valor padrão definido como 'Itapira', ou seja, caso a informação não seja fornecida, esse será o valor padrão atribuído."
            ],
            "metadata": {
                "azdata_cell_guid": "e6128e14-8c7e-460c-ade4-e7758fc6a9c2"
            }
        },
        {
            "cell_type": "code",
            "source": [
                "CREATE TABLE Cliente (\n",
                "    CodCliente INT PRIMARY KEY,\n",
                "    Nome VARCHAR(45) NOT NULL,\n",
                "    CPF VARCHAR(45) UNIQUE NOT NULL,\n",
                "    Sexo VARCHAR(20),\n",
                "    Estado VARCHAR(45),\n",
                "    Cidade VARCHAR(45) DEFAULT 'Itapira',\n",
                "    Bairro VARCHAR(45),\n",
                "    Numero VARCHAR(45),\n",
                "    Rua VARCHAR(45),\n",
                "    TelefoneFixo VARCHAR(45),\n",
                "    TelefoneCelular VARCHAR(45) UNIQUE NOT NULL\n",
                ");"
            ],
            "metadata": {
                "azdata_cell_guid": "e3da8057-68aa-4c14-bdfc-21a651271d7e",
                "vscode": {
                    "languageId": "sql"
                },
                "language": "sql"
            },
            "outputs": [
                {
                    "output_type": "display_data",
                    "data": {
                        "text/html": "Commands completed successfully."
                    },
                    "metadata": {}
                },
                {
                    "output_type": "display_data",
                    "data": {
                        "text/html": "Total execution time: 00:00:00.014"
                    },
                    "metadata": {}
                }
            ],
            "execution_count": 14
        },
        {
            "cell_type": "markdown",
            "source": [
                "## Carro\n",
                "\n",
                "A tabela Carro contém informações sobre os carros dos clientes da seguradora. Cada carro é identificado por um número único CodCarro. Além disso, a tabela possui outras colunas, como Placa, Marca, Modelo, Ano, Chassi e Cor, que armazenam informações sobre o carro de cada cliente."
            ],
            "metadata": {
                "azdata_cell_guid": "b5e317da-849b-4962-b60d-26f70ad8afd0"
            },
            "attachments": {}
        },
        {
            "cell_type": "code",
            "source": [
                "CREATE TABLE Carro (\n",
                "    CodCarro INT PRIMARY KEY,\n",
                "    Placa VARCHAR(45),\n",
                "    Marca VARCHAR(45),\n",
                "    Modelo VARCHAR(45),\n",
                "    Ano VARCHAR(45),\n",
                "    Chassi VARCHAR(45),\n",
                "    Cor VARCHAR(45)\n",
                ");\n",
                ""
            ],
            "metadata": {
                "azdata_cell_guid": "009fd5f8-d3b7-493e-ad31-85ac7643eabc",
                "vscode": {
                    "languageId": "sql"
                },
                "language": "sql"
            },
            "outputs": [
                {
                    "output_type": "display_data",
                    "data": {
                        "text/html": "Commands completed successfully."
                    },
                    "metadata": {}
                },
                {
                    "output_type": "display_data",
                    "data": {
                        "text/html": "Total execution time: 00:00:00.006"
                    },
                    "metadata": {}
                }
            ],
            "execution_count": 15
        },
        {
            "cell_type": "markdown",
            "source": [
                "## Apolice\n",
                "\n",
                "A tabela Apolice armazena informações sobre as apólices de seguro dos clientes. Cada apólice é identificada por um número único CodApolice. Além disso, a tabela possui outras colunas, como ValorCobertura, ValorFranquia, DataInicioVigencia, DataFimVigencia, Cliente_CodCliente e Carro_CodCarro, que armazenam informações sobre a cobertura do seguro, vigência da apólice, e quais carros e clientes estão associados a cada apólice. As colunas Cliente_CodCliente e Carro_CodCarro são chaves estrangeiras que se relacionam com a tabela Cliente e Carro, respectivamente."
            ],
            "metadata": {
                "azdata_cell_guid": "563a28af-22e2-4a56-9296-f1db90cfe3eb"
            },
            "attachments": {}
        },
        {
            "cell_type": "code",
            "source": [
                "CREATE TABLE Apolice (\n",
                "    CodApolice INT PRIMARY KEY,\n",
                "    ValorCobertura DECIMAL NOT NULL,\n",
                "    ValorFranquia DECIMAL NOT NULL,\n",
                "    DataInicioVigencia DATE NOT NULL,\n",
                "    DataFimVigencia DATE NOT NULL,\n",
                "    Cliente_CodCliente INT NOT NULL,\n",
                "    Carro_CodCarro INT NOT NULL,\n",
                "    CONSTRAINT chk_dataInicioVigencia CHECK (DataInicioVigencia >= GETDATE()),\n",
                "    FOREIGN KEY (Cliente_CodCliente) REFERENCES Cliente(CodCliente),\n",
                "    FOREIGN KEY (Carro_CodCarro) REFERENCES Carro (CodCarro)\n",
                ");"
            ],
            "metadata": {
                "azdata_cell_guid": "7b6e42bd-93c5-4640-8724-dbcf7c5f97d0",
                "tags": [],
                "vscode": {
                    "languageId": "sql"
                },
                "language": "sql"
            },
            "outputs": [
                {
                    "output_type": "display_data",
                    "data": {
                        "text/html": "Commands completed successfully."
                    },
                    "metadata": {}
                },
                {
                    "output_type": "display_data",
                    "data": {
                        "text/html": "Total execution time: 00:00:00.009"
                    },
                    "metadata": {}
                }
            ],
            "execution_count": 16
        },
        {
            "cell_type": "markdown",
            "source": [
                "## Sinistro\n",
                "\n",
                "Por fim, a tabela Sinistro armazena informações sobre os sinistros envolvendo os carros dos clientes. Cada sinistro é identificado por um número único CodSinistro. Além disso, a tabela possui outras colunas, como HoraSinistro, DataSinistro, LocalSinistro, Condutor e Carro_CodCarro, que armazenam informações sobre o horário, data, local, condutor e qual carro está envolvido em cada sinistro. A coluna Carro_CodCarro é uma chave estrangeira que se relaciona com a tabela Carro."
            ],
            "metadata": {
                "azdata_cell_guid": "7fa7125b-2bcc-4110-a06f-b36c24b5d457"
            },
            "attachments": {}
        },
        {
            "cell_type": "code",
            "source": [
                "CREATE TABLE Sinistro (\n",
                "    CodSinistro INT,\n",
                "    HoraSinistro INT,\n",
                "    DataSinistro DATE,\n",
                "    LocalSinistro VARCHAR(45),\n",
                "    Condutor VARCHAR(45),\n",
                "    Carro_CodCarro INT,\n",
                "    PRIMARY KEY (CodSinistro, Carro_CodCarro),\n",
                "    FOREIGN KEY (Carro_CodCarro) REFERENCES Carro(CodCarro)\n",
                ");\n",
                ""
            ],
            "metadata": {
                "azdata_cell_guid": "bd102b62-2b31-4a1e-9edf-f1d4ee96447c",
                "vscode": {
                    "languageId": "sql"
                },
                "language": "sql"
            },
            "outputs": [
                {
                    "output_type": "display_data",
                    "data": {
                        "text/html": "Commands completed successfully."
                    },
                    "metadata": {}
                },
                {
                    "output_type": "display_data",
                    "data": {
                        "text/html": "Total execution time: 00:00:00.008"
                    },
                    "metadata": {}
                }
            ],
            "execution_count": 17
        }
    ]
}
