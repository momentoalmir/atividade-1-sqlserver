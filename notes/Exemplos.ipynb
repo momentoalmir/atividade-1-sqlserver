{
    "metadata": {
        "kernelspec": {
            "name": "SQL",
            "display_name": "SQL",
            "language": "sql"
        },
        "language_info": {
            "name": "sql",
            "version": ""
        }
    },
    "nbformat_minor": 2,
    "nbformat": 4,
    "cells": [
        {
            "cell_type": "markdown",
            "source": [
                "Inserir Cliente"
            ],
            "metadata": {
                "azdata_cell_guid": "63e751e5-1fd0-4542-aee8-bb6caea288c3"
            },
            "attachments": {}
        },
        {
            "cell_type": "code",
            "source": [
                "USE seguradora;\n",
                "INSERT INTO Cliente (CodCliente, Nome, CPF, Sexo, Estado, Cidade, Bairro, Numero, Rua, TelefoneFixo, TelefoneCelular)\n",
                "VALUES (1, 'Maria Silva', '111.111.111-11', 'Feminino', 'São Paulo', 'Itapira', 'Centro', '100', 'Rua A', '1111-1111', '99999-9999');"
            ],
            "metadata": {
                "azdata_cell_guid": "5d44da9d-031e-4e98-8182-1513ce59b46f",
                "language": "sql"
            },
            "outputs": [
                {
                    "output_type": "display_data",
                    "data": {
                        "text/html": "(1 row affected)"
                    },
                    "metadata": {}
                },
                {
                    "output_type": "display_data",
                    "data": {
                        "text/html": "Total execution time: 00:00:00.011"
                    },
                    "metadata": {}
                }
            ],
            "execution_count": 6
        },
        {
            "cell_type": "markdown",
            "source": [
                "Inserir carro"
            ],
            "metadata": {
                "azdata_cell_guid": "6c41503d-bbe4-406a-8f80-50c5655a6f7b"
            },
            "attachments": {}
        },
        {
            "cell_type": "code",
            "source": [
                "INSERT INTO Carro (CodCarro, Placa, Marca, Modelo, Ano, Chassi, Cor)\r\n",
                "\r\n",
                "VALUES (1, 'ABC-1234', 'Ford', 'Fiesta', '2018', 'ABC1234DEF5678', 'Prata');"
            ],
            "metadata": {
                "azdata_cell_guid": "67510bdf-ed69-4f91-9d4e-a5e7d48d4395",
                "language": "sql"
            },
            "outputs": [
                {
                    "output_type": "display_data",
                    "data": {
                        "text/html": "(1 row affected)"
                    },
                    "metadata": {}
                },
                {
                    "output_type": "display_data",
                    "data": {
                        "text/html": "Total execution time: 00:00:00.008"
                    },
                    "metadata": {}
                }
            ],
            "execution_count": 7
        },
        {
            "cell_type": "markdown",
            "source": [
                "Inserir apólice"
            ],
            "metadata": {
                "azdata_cell_guid": "dbbd9d49-0cac-45cf-98d0-d43388b033c7"
            },
            "attachments": {}
        },
        {
            "cell_type": "code",
            "source": [
                "INSERT INTO Apolice (CodApolice, ValorCobertura, ValorFranquia, DataInicioVigencia, DataFimVigencia, Cliente_CodCliente, Carro_CodCarro)\n",
                "VALUES (1, 50000.00, 1000.00, '2022-01-01', '2023-01-01', 1, 1);"
            ],
            "metadata": {
                "azdata_cell_guid": "af49bcd4-54aa-4072-9369-ff7b5cf3b4e3",
                "language": "sql"
            },
            "outputs": [
                {
                    "output_type": "error",
                    "evalue": "Msg 547, Level 16, State 0, Line 1\r\nThe INSERT statement conflicted with the CHECK constraint \"chk_dataInicioVigencia\". The conflict occurred in database \"seguradora\", table \"dbo.Apolice\", column 'DataInicioVigencia'.",
                    "ename": "",
                    "traceback": []
                },
                {
                    "output_type": "display_data",
                    "data": {
                        "text/html": "The statement has been terminated."
                    },
                    "metadata": {}
                },
                {
                    "output_type": "display_data",
                    "data": {
                        "text/html": "Total execution time: 00:00:00.003"
                    },
                    "metadata": {}
                }
            ],
            "execution_count": 8
        },
        {
            "cell_type": "markdown",
            "source": [
                "Isso conflita com a regra definida anteriormente como esperado, agora precisamos checar se executa corretamente."
            ],
            "metadata": {
                "language": "sql",
                "azdata_cell_guid": "be3b87bf-60a9-4220-bc64-64b05eee832a"
            },
            "attachments": {}
        },
        {
            "cell_type": "code",
            "source": [
                "INSERT INTO Apolice (CodApolice, ValorCobertura, ValorFranquia, DataInicioVigencia, DataFimVigencia, Cliente_CodCliente, Carro_CodCarro)\r\n",
                "VALUES (1, 50000.00, 1000.00, '2024-01-01', '2025-01-01', 1, 1);"
            ],
            "metadata": {
                "language": "sql",
                "azdata_cell_guid": "3fdeaee0-8ce3-48e4-a0df-834680362e59"
            },
            "outputs": [
                {
                    "output_type": "display_data",
                    "data": {
                        "text/html": "(1 row affected)"
                    },
                    "metadata": {}
                },
                {
                    "output_type": "display_data",
                    "data": {
                        "text/html": "Total execution time: 00:00:00.011"
                    },
                    "metadata": {}
                }
            ],
            "execution_count": 9
        },
        {
            "cell_type": "markdown",
            "source": [
                "Inserir sinistro"
            ],
            "metadata": {
                "azdata_cell_guid": "845137af-c81c-4cec-ade2-ad501b7e17d7"
            },
            "attachments": {}
        },
        {
            "cell_type": "code",
            "source": [
                "INSERT INTO Sinistro (CodSinistro, HoraSinistro, DataSinistro, LocalSinistro, Condutor, Carro_CodCarro)\n",
                "VALUES (1, 1430, '2022-06-01', 'Rua B', 'João', 1);"
            ],
            "metadata": {
                "azdata_cell_guid": "605f8a55-d95f-481b-8b95-c149cee69013",
                "language": "sql"
            },
            "outputs": [
                {
                    "output_type": "display_data",
                    "data": {
                        "text/html": "(1 row affected)"
                    },
                    "metadata": {}
                },
                {
                    "output_type": "display_data",
                    "data": {
                        "text/html": "Total execution time: 00:00:00.010"
                    },
                    "metadata": {}
                }
            ],
            "execution_count": 10
        },
        {
            "cell_type": "markdown",
            "source": [
                "Selecionar todos os clientes e suas apólices"
            ],
            "metadata": {
                "azdata_cell_guid": "74c48b96-7a56-49d5-ab81-6eeb99d1f1e0"
            },
            "attachments": {}
        },
        {
            "cell_type": "code",
            "source": [
                "SELECT *\n",
                "FROM Cliente\n",
                "LEFT JOIN Apolice ON Cliente.CodCliente = Apolice.Cliente_CodCliente;"
            ],
            "metadata": {
                "azdata_cell_guid": "f9623748-9f12-43c3-9e7a-de58838c1d69",
                "language": "sql"
            },
            "outputs": [
                {
                    "output_type": "display_data",
                    "data": {
                        "text/html": "(1 row affected)"
                    },
                    "metadata": {}
                },
                {
                    "output_type": "display_data",
                    "data": {
                        "text/html": "Total execution time: 00:00:00.031"
                    },
                    "metadata": {}
                },
                {
                    "output_type": "execute_result",
                    "metadata": {},
                    "execution_count": 11,
                    "data": {
                        "application/vnd.dataresource+json": {
                            "schema": {
                                "fields": [
                                    {
                                        "name": "CodCliente"
                                    },
                                    {
                                        "name": "Nome"
                                    },
                                    {
                                        "name": "CPF"
                                    },
                                    {
                                        "name": "Sexo"
                                    },
                                    {
                                        "name": "Estado"
                                    },
                                    {
                                        "name": "Cidade"
                                    },
                                    {
                                        "name": "Bairro"
                                    },
                                    {
                                        "name": "Numero"
                                    },
                                    {
                                        "name": "Rua"
                                    },
                                    {
                                        "name": "TelefoneFixo"
                                    },
                                    {
                                        "name": "TelefoneCelular"
                                    },
                                    {
                                        "name": "CodApolice"
                                    },
                                    {
                                        "name": "ValorCobertura"
                                    },
                                    {
                                        "name": "ValorFranquia"
                                    },
                                    {
                                        "name": "DataInicioVigencia"
                                    },
                                    {
                                        "name": "DataFimVigencia"
                                    },
                                    {
                                        "name": "Cliente_CodCliente"
                                    },
                                    {
                                        "name": "Carro_CodCarro"
                                    }
                                ]
                            },
                            "data": [
                                {
                                    "0": "1",
                                    "1": "Maria Silva",
                                    "2": "111.111.111-11",
                                    "3": "Feminino",
                                    "4": "São Paulo",
                                    "5": "Itapira",
                                    "6": "Centro",
                                    "7": "100",
                                    "8": "Rua A",
                                    "9": "1111-1111",
                                    "10": "99999-9999",
                                    "11": "1",
                                    "12": "50000",
                                    "13": "1000",
                                    "14": "2024-01-01",
                                    "15": "2025-01-01",
                                    "16": "1",
                                    "17": "1"
                                }
                            ]
                        },
                        "text/html": [
                            "<table>",
                            "<tr><th>CodCliente</th><th>Nome</th><th>CPF</th><th>Sexo</th><th>Estado</th><th>Cidade</th><th>Bairro</th><th>Numero</th><th>Rua</th><th>TelefoneFixo</th><th>TelefoneCelular</th><th>CodApolice</th><th>ValorCobertura</th><th>ValorFranquia</th><th>DataInicioVigencia</th><th>DataFimVigencia</th><th>Cliente_CodCliente</th><th>Carro_CodCarro</th></tr>",
                            "<tr><td>1</td><td>Maria Silva</td><td>111.111.111-11</td><td>Feminino</td><td>São Paulo</td><td>Itapira</td><td>Centro</td><td>100</td><td>Rua A</td><td>1111-1111</td><td>99999-9999</td><td>1</td><td>50000</td><td>1000</td><td>2024-01-01</td><td>2025-01-01</td><td>1</td><td>1</td></tr>",
                            "</table>"
                        ]
                    }
                }
            ],
            "execution_count": 11
        },
        {
            "cell_type": "markdown",
            "source": [
                "Selecionar todos os carros e seus sinistros"
            ],
            "metadata": {
                "azdata_cell_guid": "d7c3a324-db3b-4f82-a43d-713d03ceac01"
            },
            "attachments": {}
        },
        {
            "cell_type": "code",
            "source": [
                "SELECT *\n",
                "FROM Carro\n",
                "LEFT JOIN Sinistro ON Carro.CodCarro = Sinistro.Carro_CodCarro;"
            ],
            "metadata": {
                "azdata_cell_guid": "4cc93bca-1d2e-4894-8867-6bba3b32bd7c",
                "language": "sql"
            },
            "outputs": [
                {
                    "output_type": "display_data",
                    "data": {
                        "text/html": "(1 row affected)"
                    },
                    "metadata": {}
                },
                {
                    "output_type": "display_data",
                    "data": {
                        "text/html": "Total execution time: 00:00:00.021"
                    },
                    "metadata": {}
                },
                {
                    "output_type": "execute_result",
                    "metadata": {},
                    "execution_count": 12,
                    "data": {
                        "application/vnd.dataresource+json": {
                            "schema": {
                                "fields": [
                                    {
                                        "name": "CodCarro"
                                    },
                                    {
                                        "name": "Placa"
                                    },
                                    {
                                        "name": "Marca"
                                    },
                                    {
                                        "name": "Modelo"
                                    },
                                    {
                                        "name": "Ano"
                                    },
                                    {
                                        "name": "Chassi"
                                    },
                                    {
                                        "name": "Cor"
                                    },
                                    {
                                        "name": "CodSinistro"
                                    },
                                    {
                                        "name": "HoraSinistro"
                                    },
                                    {
                                        "name": "DataSinistro"
                                    },
                                    {
                                        "name": "LocalSinistro"
                                    },
                                    {
                                        "name": "Condutor"
                                    },
                                    {
                                        "name": "Carro_CodCarro"
                                    }
                                ]
                            },
                            "data": [
                                {
                                    "0": "1",
                                    "1": "ABC-1234",
                                    "2": "Ford",
                                    "3": "Fiesta",
                                    "4": "2018",
                                    "5": "ABC1234DEF5678",
                                    "6": "Prata",
                                    "7": "1",
                                    "8": "1430",
                                    "9": "2022-06-01",
                                    "10": "Rua B",
                                    "11": "João",
                                    "12": "1"
                                }
                            ]
                        },
                        "text/html": [
                            "<table>",
                            "<tr><th>CodCarro</th><th>Placa</th><th>Marca</th><th>Modelo</th><th>Ano</th><th>Chassi</th><th>Cor</th><th>CodSinistro</th><th>HoraSinistro</th><th>DataSinistro</th><th>LocalSinistro</th><th>Condutor</th><th>Carro_CodCarro</th></tr>",
                            "<tr><td>1</td><td>ABC-1234</td><td>Ford</td><td>Fiesta</td><td>2018</td><td>ABC1234DEF5678</td><td>Prata</td><td>1</td><td>1430</td><td>2022-06-01</td><td>Rua B</td><td>João</td><td>1</td></tr>",
                            "</table>"
                        ]
                    }
                }
            ],
            "execution_count": 12
        }
    ]
}
